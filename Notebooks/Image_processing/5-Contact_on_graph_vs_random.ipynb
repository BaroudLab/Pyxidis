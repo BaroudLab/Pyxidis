{
 "cells": [
  {
   "cell_type": "code",
   "execution_count": 1,
   "id": "67cabc88-ba22-41c9-96e3-3dca5b017ec3",
   "metadata": {
    "tags": []
   },
   "outputs": [],
   "source": [
    "import numpy as np\n",
    "import pandas\n",
    "import networkx as nx\n",
    "import matplotlib.pyplot as plt\n",
    "import os\n",
    "import seaborn as sns\n",
    "from statannot import add_stat_annotation\n",
    "import glob\n",
    "from tqdm.notebook import tqdm\n",
    "from numpy import random\n",
    "from scipy import stats\n",
    "\n",
    "import copy\n",
    "import griottes\n",
    "import griottes.analyse\n",
    "from griottes.graphmaker import make_spheroids\n",
    "from griottes.graphmaker import graph_generation_func\n",
    "from griottes.graphplotter import graph_plot"
   ]
  },
  {
   "cell_type": "markdown",
   "id": "b538368c-0c32-4d6a-97d6-348da0715d72",
   "metadata": {
    "tags": []
   },
   "source": [
    "# Notebook to compute contact between progenitor cells and stroma on a graph (relative to figure 3)\n",
    "\n",
    "Here, everything is provided for the example image, in the Zenodo repository, in the folder \"Example_image\" or in this repository to run this notebook in the folder \"Example_image\""
   ]
  },
  {
   "cell_type": "markdown",
   "id": "c40e2626-9bb2-419d-9e25-b34f90b7ffc7",
   "metadata": {},
   "source": [
    "# Useful function to extract neighbors properties"
   ]
  },
  {
   "cell_type": "code",
   "execution_count": 6,
   "id": "0048b28a-3bfa-4a25-9e02-16195ed6a399",
   "metadata": {
    "tags": []
   },
   "outputs": [],
   "source": [
    "def get_neighborhood_properties(G, dataframe):\n",
    "    \"\"\"\n",
    "    Graph needs to have \"cell_properties\" as attribute per node.\n",
    "    Returns:\n",
    "    --------\n",
    "    pandas.DataFrame: line inpt cell type, columns are prob for line\n",
    "        cell type to have column cell type as neighbor.\n",
    "    \"\"\"\n",
    "    cell_property_kinds = dataframe.cell_properties.unique()\n",
    "    \n",
    "    df = copy.copy(dataframe)\n",
    "    for neigh in cell_property_kinds:\n",
    "        df[neigh + ' neighbor'] = 0\n",
    "        \n",
    "    df['graph_cell_properties'] = ' '\n",
    "        \n",
    "    for node in tqdm(G.nodes()):\n",
    "        df.loc[node, 'graph_cell_properties'] = G.nodes[node]['cell_properties']\n",
    "        for neigh_node in G.neighbors(node):\n",
    "            neigh_node_cell_type = G.nodes[neigh_node]['cell_properties']\n",
    "            df.loc[node, neigh_node_cell_type + ' neighbor'] += 1\n",
    "    return df"
   ]
  },
  {
   "cell_type": "markdown",
   "id": "09715546-55ef-49cc-8cf8-b84a2eb3cc0c",
   "metadata": {
    "tags": []
   },
   "source": [
    "# Load an example dataset and make graphs"
   ]
  },
  {
   "cell_type": "code",
   "execution_count": 4,
   "id": "f4bbf97e-bf60-475e-a3cb-1c70ef4b1a1f",
   "metadata": {
    "tags": []
   },
   "outputs": [],
   "source": [
    "fname = 'Example_image/221212_6_classified_corrected.csv'\n",
    "dft_221212_6 = pandas.read_csv(fname)"
   ]
  },
  {
   "cell_type": "code",
   "execution_count": null,
   "id": "caa73021-c1de-4b0d-9855-52a5dff6e924",
   "metadata": {
    "tags": []
   },
   "outputs": [],
   "source": [
    "# Build graph on the image using Delaunay method\n",
    "\n",
    "descriptors = ['label', 'cell_type', 'color', 'legend','cell_properties','x', 'y']\n",
    "Observed_graph = graph_generation_func.generate_delaunay_graph(dft_221212_6,\n",
    "                                                  image_is_2D = True,\n",
    "                                                  descriptors = descriptors,\n",
    "                                                  distance = 100)\n",
    "\n",
    "# Extract cell neighbors on the graph\n",
    "neighbors_graph = get_neighborhood_properties(Observed_graph, dft_221212_6)"
   ]
  },
  {
   "cell_type": "code",
   "execution_count": null,
   "id": "7d93371c-e18b-4e61-8fc5-70d0135a5512",
   "metadata": {
    "tags": []
   },
   "outputs": [],
   "source": [
    "# Duplicate the dataset 5 times and randomly assign cell that are not Lhx2+ (to keep the structure of stellate cells intact)\n",
    "\n",
    "selected_columns = ['label', 'x', 'y', 'cell_properties', 'cell_properties_CD45', 'cell_properties_Kit', 'cell_properties_Lhx2', 'color', 'legend', 'date']\n",
    "columns_to_shuffle = ['cell_properties_CD45', 'cell_properties_Kit']\n",
    "\n",
    "data_221212_6_random_all = []\n",
    "\n",
    "for i in tqdm([q for q in range(5)]):\n",
    "    data_221212_6_random_lhx2neg = copy.copy(dft_221212_6.loc[dft_221212_6.cell_properties_Lhx2 != 'Lhx2+']).reset_index()\n",
    "    data_221212_6_random_lhx2pos = copy.copy(dft_221212_6.loc[dft_221212_6.cell_properties_Lhx2 == 'Lhx2+']).reset_index()\n",
    "    data_221212_6_random_lhx2neg[columns_to_shuffle] = data_221212_6_random_lhx2neg[columns_to_shuffle].sample(frac = 1).reset_index().drop('index', axis=1)\n",
    "    data_221212_6_random = pandas.concat([data_221212_6_random_lhx2pos, data_221212_6_random_lhx2neg]).reset_index()\n",
    "    data_221212_6_random.cell_properties = data_221212_6_random.cell_properties_CD45 + ', ' + data_221212_6_random.cell_properties_Kit + ', ' + data_221212_6_random.cell_properties_Lhx2\n",
    "    data_221212_6_random_all.append(data_221212_6_random)"
   ]
  },
  {
   "cell_type": "code",
   "execution_count": null,
   "id": "3ebcd84c-e698-4673-8d5a-3d89f7cc7ad2",
   "metadata": {
    "tags": []
   },
   "outputs": [],
   "source": [
    "# Build graph on the image using Delaunay method and extract cell neighbors on the random datasets\n",
    "\n",
    "neighbors_221212_6_random = []\n",
    "\n",
    "for i in tqdm([k for k in range(5)]):\n",
    "    descriptors = ['label', 'cell_type', 'color', 'legend','cell_properties','x', 'y']\n",
    "    Random_graph = graph_generation_func.generate_delaunay_graph(data_221212_6_random_all[i],\n",
    "                                                                 image_is_2D = True,\n",
    "                                                                 descriptors = descriptors,\n",
    "                                                                 distance = 100)\n",
    "    M = get_neighborhood_properties(Random_graph, data_221212_6_random_all[i])\n",
    "    neighbors_221212_6_random.append(M)"
   ]
  },
  {
   "cell_type": "markdown",
   "id": "6721d4f5-208c-49e3-9423-218390dfff80",
   "metadata": {},
   "source": [
    "# Compute number of contact to a LHX2$^+$cell for each cell type"
   ]
  },
  {
   "cell_type": "code",
   "execution_count": 16,
   "id": "bc8840fa-696e-46ed-8bb5-f3207488236f",
   "metadata": {
    "tags": []
   },
   "outputs": [],
   "source": [
    "cell_type = 'CD45-, Kit+, Lhx2-'\n",
    "neighbor_type = 'CD45-, Kit-, Lhx2+ neighbor'\n",
    "\n",
    "neighbors_graph['fraction'] = 1\n",
    "Kit_221212_6 = neighbors_graph.loc[neighbors_graph.graph_cell_properties == cell_type].groupby([neighbor_type]).count().reset_index()[[neighbor_type, 'fraction']]\n",
    "number_cells = np.sum(Kit_221212_6['fraction'])\n",
    "Kit_221212_6['fraction'] = 100*Kit_221212_6['fraction']/number_cells\n",
    "\n",
    "Kit_221212_6_random = pandas.DataFrame()\n",
    "for i in range(len(neighbors_221212_6_random)):\n",
    "    n_1 = neighbors_221212_6_random[i]\n",
    "    n_1['fraction'] = 1\n",
    "    t_1_random = n_1.loc[n_1.graph_cell_properties == cell_type].groupby([neighbor_type]).count().reset_index()[[neighbor_type, 'fraction']]\n",
    "    number_cells = np.sum(t_1_random['fraction'])\n",
    "    t_1_random['fraction'] = 100*t_1_random['fraction']/number_cells\n",
    "    Kit_221212_6_random = pandas.concat([Kit_221212_6_random, t_1_random])\n",
    "Kit_221212_6_random = Kit_221212_6_random.groupby(neighbor_type).mean().reset_index()\n",
    "\n",
    "Kit_221212_6['date'] = 221212_6\n",
    "Kit_221212_6_random['date'] = 221212_6\n",
    "\n",
    "Kit_221212_6['type'] = 'observed'\n",
    "Kit_221212_6_random['type'] = 'random'\n",
    "\n",
    "Contact_Kit_LHX2 = pandas.concat([Kit_221212_6, Kit_221212_6_random])"
   ]
  },
  {
   "cell_type": "code",
   "execution_count": 23,
   "id": "4b456569-d709-4c09-8d31-254bffd36cbf",
   "metadata": {
    "tags": []
   },
   "outputs": [],
   "source": [
    "cell_type = 'CD45+, Kit+, Lhx2-'\n",
    "neighbor_type = 'CD45-, Kit-, Lhx2+ neighbor'\n",
    "\n",
    "neighbors_graph['fraction'] = 1\n",
    "CD45_Kit_221212_6 = neighbors_graph.loc[neighbors_graph.graph_cell_properties == cell_type].groupby([neighbor_type]).count().reset_index()[[neighbor_type, 'fraction']]\n",
    "number_cells = np.sum(CD45_Kit_221212_6['fraction'])\n",
    "CD45_Kit_221212_6['fraction'] = 100*CD45_Kit_221212_6['fraction']/number_cells\n",
    "\n",
    "CD45_Kit_221212_6_random = pandas.DataFrame()\n",
    "for i in range(len(neighbors_221212_6_random)):\n",
    "    n_1 = neighbors_221212_6_random[i]\n",
    "    n_1['fraction'] = 1\n",
    "    t_1_random = n_1.loc[n_1.graph_cell_properties == cell_type].groupby([neighbor_type]).count().reset_index()[[neighbor_type, 'fraction']]\n",
    "    number_cells = np.sum(t_1_random['fraction'])\n",
    "    t_1_random['fraction'] = 100*t_1_random['fraction']/number_cells\n",
    "    CD45_Kit_221212_6_random = pandas.concat([CD45_Kit_221212_6_random, t_1_random])\n",
    "CD45_Kit_221212_6_random = CD45_Kit_221212_6_random.groupby(neighbor_type).mean().reset_index()\n",
    "\n",
    "CD45_Kit_221212_6['date'] = 221212_6\n",
    "CD45_Kit_221212_6_random['date'] = 221212_6\n",
    "\n",
    "CD45_Kit_221212_6['type'] = 'observed'\n",
    "CD45_Kit_221212_6_random['type'] = 'random'\n",
    "\n",
    "Contact_CD45_Kit_LHX2 = pandas.concat([CD45_Kit_221212_6, CD45_Kit_221212_6_random])"
   ]
  },
  {
   "cell_type": "code",
   "execution_count": 24,
   "id": "dcb4476a-fd74-4f0e-94e8-26a9833c5a6e",
   "metadata": {
    "tags": []
   },
   "outputs": [],
   "source": [
    "cell_type = 'CD45+, Kit-, Lhx2-'\n",
    "neighbor_type = 'CD45-, Kit-, Lhx2+ neighbor'\n",
    "\n",
    "neighbors_graph['fraction'] = 1\n",
    "CD45_221212_6 = neighbors_graph.loc[neighbors_graph.graph_cell_properties == cell_type].groupby([neighbor_type]).count().reset_index()[[neighbor_type, 'fraction']]\n",
    "number_cells = np.sum(CD45_221212_6['fraction'])\n",
    "CD45_221212_6['fraction'] = 100*CD45_221212_6['fraction']/number_cells\n",
    "\n",
    "CD45_221212_6_random = pandas.DataFrame()\n",
    "for i in range(len(neighbors_221212_6_random)):\n",
    "    n_1 = neighbors_221212_6_random[i]\n",
    "    n_1['fraction'] = 1\n",
    "    t_1_random = n_1.loc[n_1.graph_cell_properties == cell_type].groupby([neighbor_type]).count().reset_index()[[neighbor_type, 'fraction']]\n",
    "    number_cells = np.sum(t_1_random['fraction'])\n",
    "    t_1_random['fraction'] = 100*t_1_random['fraction']/number_cells\n",
    "    CD45_221212_6_random = pandas.concat([CD45_221212_6_random, t_1_random])\n",
    "CD45_221212_6_random = CD45_221212_6_random.groupby(neighbor_type).mean().reset_index()\n",
    "\n",
    "CD45_221212_6['date'] = 221212_6\n",
    "CD45_221212_6_random['date'] = 221212_6\n",
    "\n",
    "CD45_221212_6['type'] = 'observed'\n",
    "CD45_221212_6_random['type'] = 'random'\n",
    "\n",
    "Contact_CD45_LHX2 = pandas.concat([CD45_221212_6, CD45_221212_6_random])"
   ]
  },
  {
   "cell_type": "markdown",
   "id": "7292cd74-d3d4-4b8b-b3b5-9a92ab905e84",
   "metadata": {
    "tags": []
   },
   "source": [
    "# Plot distribution of number of contact between each cell types and LHX2$^+$cells"
   ]
  },
  {
   "cell_type": "code",
   "execution_count": 26,
   "id": "2613bd1f-565a-4255-8742-0a2b489acb26",
   "metadata": {
    "tags": []
   },
   "outputs": [
    {
     "data": {
      "image/png": "[encoded data removed]",
      "text/plain": [
       "<Figure size 1000x300 with 3 Axes>"
      ]
     },
     "metadata": {},
     "output_type": "display_data"
    }
   ],
   "source": [
    "# Define font\n",
    "plt.rc('font',family='Arial')\n",
    "\n",
    "# Plot\n",
    "fig, ax = plt.subplots(1, 3, figsize = (10,3))\n",
    "\n",
    "order = [0,1,2,3,4]\n",
    "\n",
    "sns.barplot(ax=ax[0],\n",
    "                 x = neighbor_type,\n",
    "                 y = 'fraction',\n",
    "                 hue = 'type',\n",
    "                 data=Contact_Kit_LHX2,\n",
    "                 order = order,\n",
    "                 palette = ['tab:blue', 'lightgray'],\n",
    "                 errorbar='sd',\n",
    "                 errcolor='black',\n",
    "                 capsize=0.1,\n",
    "                 errwidth=1,\n",
    "                 color = 'r',\n",
    "                 lw = 1, \n",
    "                 edgecolor=\"0\")\n",
    "\n",
    "sns.barplot(ax=ax[1],\n",
    "                 x = neighbor_type,\n",
    "                 y = 'fraction',\n",
    "                 hue = 'type',\n",
    "                 data=Contact_CD45_Kit_LHX2,\n",
    "                 order = order,\n",
    "                 palette = ['purple', 'lightgray'],\n",
    "                 errorbar='sd',\n",
    "                 errcolor='black',\n",
    "                 capsize=0.1,\n",
    "                 errwidth=1,\n",
    "                 color = 'r',\n",
    "                 lw = 1, \n",
    "                 edgecolor=\"0\")\n",
    "\n",
    "sns.barplot(ax=ax[2],\n",
    "                 x = neighbor_type,\n",
    "                 y = 'fraction',\n",
    "                 hue = 'type',\n",
    "                 data=Contact_CD45_LHX2,\n",
    "                 order = order,\n",
    "                 palette = ['red', 'lightgray'],\n",
    "                 errorbar='sd',\n",
    "                 errcolor='black',\n",
    "                 capsize=0.1,\n",
    "                 errwidth=1,\n",
    "                 color = 'r',\n",
    "                 lw = 1, \n",
    "                 edgecolor=\"0\")\n",
    "\n",
    "for i in range(3):\n",
    "    ax[i].set_ylim(-2,90)\n",
    "    ax[i].spines['top'].set_visible(False)\n",
    "    ax[i].spines['right'].set_visible(False)\n",
    "    ax[i].spines['bottom'].set_visible(True)\n",
    "    ax[i].spines['left'].set_visible(True)\n",
    "    ax[i].tick_params(axis='x', labelsize=12)\n",
    "    ax[i].tick_params(axis='y', labelsize=12)        \n",
    "    ax[i].tick_params(width=1, length=6)\n",
    "    ax[i].set_xlabel('# contact to Lhx2$^+$cell', fontsize = 12)\n",
    "    \n",
    "for axis in ['bottom','left']:\n",
    "            ax[i].spines[axis].set_linewidth(1)\n",
    "\n",
    "ax[0].set_ylabel('CD45$^-$Kit$^+$ (%)', fontsize = 12)\n",
    "ax[0].set_title('CD45$^-$Kit$^+$ E12.5', fontsize = 12, pad = 10, loc='center', weight='bold')\n",
    "ax[1].set_ylabel('CD45$^+$Kit$^+$ (%)', fontsize = 12)\n",
    "ax[1].set_title('CD45$^+$Kit$^+$ E12.5', fontsize = 12, pad = 10, loc='center', weight='bold')\n",
    "ax[2].set_ylabel('CD45$^+$Kit$^-$ (%)', fontsize = 12)\n",
    "ax[2].set_title('CD45$^+$Kit$^-$ E12.5', fontsize = 12, pad = 10, loc='center', weight='bold')\n",
    "\n",
    "ax[0].legend(loc='upper right', borderpad=0.4, labelspacing=0.3, handletextpad=0.4, markerscale = 2, fontsize=10, columnspacing=0)\n",
    "ax[1].legend(loc='upper right', borderpad=0.4, labelspacing=0.3, handletextpad=0.4, markerscale = 2, fontsize=10, columnspacing=0)\n",
    "ax[2].legend(loc='upper right', borderpad=0.4, labelspacing=0.3, handletextpad=0.4, markerscale = 2, fontsize=10, columnspacing=0)\n",
    "\n",
    "# Save graph\n",
    "plt.tight_layout()"
   ]
  }
 ],
 "metadata": {
  "kernelspec": {
   "display_name": "Python 3 (ipykernel)",
   "language": "python",
   "name": "python3"
  },
  "language_info": {
   "codemirror_mode": {
    "name": "ipython",
    "version": 3
   },
   "file_extension": ".py",
   "mimetype": "text/x-python",
   "name": "python",
   "nbconvert_exporter": "python",
   "pygments_lexer": "ipython3",
   "version": "3.10.9"
  }
 },
 "nbformat": 4,
 "nbformat_minor": 5
}
