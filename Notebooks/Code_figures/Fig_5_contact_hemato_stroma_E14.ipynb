{
 "cells": [
  {
   "cell_type": "code",
   "execution_count": 1,
   "id": "850db075-3d3d-453a-94b3-830efe323b0a",
   "metadata": {
    "tags": []
   },
   "outputs": [],
   "source": [
    "import numpy as np\n",
    "import pandas\n",
    "import networkx as nx\n",
    "import matplotlib.pyplot as plt\n",
    "import os\n",
    "import seaborn as sns\n",
    "from statannot import add_stat_annotation\n",
    "import glob\n",
    "from tqdm.notebook import tqdm\n",
    "from numpy import random\n",
    "import copy\n",
    "import griottes\n",
    "import griottes.analyse\n",
    "from griottes.graphmaker import make_spheroids\n",
    "from griottes.graphmaker import graph_generation_func\n",
    "from griottes.graphplotter import graph_plot\n",
    "from scipy import stats"
   ]
  },
  {
   "cell_type": "markdown",
   "id": "990ad6c4-46d1-440b-9f88-7cbc6666ad73",
   "metadata": {},
   "source": [
    "# Notebook to plot contact of progenitors and stromal cells cells at E14.5 (relative to Figure 5)"
   ]
  },
  {
   "cell_type": "markdown",
   "id": "c48649ad-9bf8-4f0d-a01d-4899bbcd474e",
   "metadata": {},
   "source": [
    "# Contact to HNF4a$^+$cells"
   ]
  },
  {
   "cell_type": "code",
   "execution_count": 2,
   "id": "bba90289-1a2e-4064-8856-631e47599df2",
   "metadata": {
    "tags": []
   },
   "outputs": [],
   "source": [
    "Contact_to_HNF4a = pandas.read_csv('Data_figures/Contact_prog_HNF4a_E14.csv')\n",
    "contact_prog_HNF4a_single_cell = pandas.read_csv('Data_figures/Contact_prog_HNF4a_single_cell_E14.csv')"
   ]
  },
  {
   "cell_type": "markdown",
   "id": "1d0c9bb6-f823-4592-8455-ae1123ca0bc0",
   "metadata": {
    "tags": []
   },
   "source": [
    "### Plot"
   ]
  },
  {
   "cell_type": "code",
   "execution_count": 4,
   "id": "fe53299e-3dbc-43e7-9524-0a7765b70506",
   "metadata": {
    "tags": []
   },
   "outputs": [
    {
     "data": {
      "image/png": "[encoded data removed]",
      "text/plain": [
       "<Figure size 400x320 with 3 Axes>"
      ]
     },
     "metadata": {},
     "output_type": "display_data"
    }
   ],
   "source": [
    "# Define font\n",
    "plt.rc('font',family='Arial')\n",
    "\n",
    "# Plot\n",
    "fig, ax = plt.subplots(1, 3, figsize = (4,3.2))\n",
    "\n",
    "plt.subplots_adjust(left=None, bottom=None, right=None, top=None, wspace=0.1, hspace=0.1)\n",
    "\n",
    "order = ['observed', 'random']\n",
    "\n",
    "for i in range(3):\n",
    "    ax[i].set_ylim(0,80)\n",
    "    ax[i].spines['top'].set_visible(False)\n",
    "    ax[i].spines['right'].set_visible(False)\n",
    "    ax[i].spines['bottom'].set_visible(True)\n",
    "    ax[i].spines['left'].set_visible(True)\n",
    "    ax[i].tick_params(axis='x', labelsize=14, rotation=45)\n",
    "    ax[i].tick_params(axis='y', labelsize=14)        \n",
    "    ax[i].tick_params(width=1, length=4)\n",
    "    for axis in ['bottom','left']:\n",
    "            ax[i].spines[axis].set_linewidth(1)\n",
    "            \n",
    "sns.barplot(ax=ax[0],\n",
    "                 x = 'type',\n",
    "                 y = 'fraction',\n",
    "                 data=Contact_to_HNF4a.loc[Contact_to_HNF4a.cell_type == 'CD45$^-$Kit$^+$'],\n",
    "                 order = order,\n",
    "                 palette = ['tab:blue', 'lightgray'],\n",
    "                 errorbar='sd',\n",
    "                 errcolor='black',\n",
    "                 capsize=0.2,\n",
    "                 errwidth=1,\n",
    "                 color = 'r',\n",
    "                 lw = 1, \n",
    "                 edgecolor=\"0\")\n",
    "\n",
    "add_stat_annotation(x=\"type\",\n",
    "                    y=\"contact\",\n",
    "                    data=contact_prog_HNF4a_single_cell.loc[contact_prog_HNF4a_single_cell.cell_type == 'CD45$^-$Kit$^+$'],\n",
    "                    ax=ax[0],\n",
    "                    box_pairs=[('observed', 'random'),],\n",
    "                    test='t-test_welch',\n",
    "                    comparisons_correction=None, \n",
    "                    fontsize = 16,\n",
    "                    text_format='star',\n",
    "                    loc='outside',\n",
    "                    verbose=0)\n",
    "\n",
    "sns.barplot(ax=ax[1],\n",
    "                 x = 'type',\n",
    "                 y = 'fraction',\n",
    "                 data=Contact_to_HNF4a.loc[Contact_to_HNF4a.cell_type == 'CD45$^+$Kit$^+$'],\n",
    "                 order = order,\n",
    "                 palette = ['purple', 'lightgray'],\n",
    "                 errorbar='sd',\n",
    "                 errcolor='black',\n",
    "                 capsize=0.2,\n",
    "                 errwidth=1,\n",
    "                 color = 'r',\n",
    "                 lw = 1, \n",
    "                 edgecolor=\"0\")\n",
    "\n",
    "add_stat_annotation(x=\"type\",\n",
    "                    y=\"contact\",\n",
    "                    data=contact_prog_HNF4a_single_cell.loc[contact_prog_HNF4a_single_cell.cell_type == 'CD45$^+$Kit$^+$'],\n",
    "                    ax=ax[1],\n",
    "                    box_pairs=[('observed', 'random'),],\n",
    "                    test='t-test_welch',\n",
    "                    comparisons_correction=None, \n",
    "                    fontsize = 16,\n",
    "                    text_format='star',\n",
    "                    loc='outside',\n",
    "                    verbose=0)\n",
    "\n",
    "sns.barplot(ax=ax[2],\n",
    "                 x = 'type',\n",
    "                 y = 'fraction',\n",
    "                 data=Contact_to_HNF4a.loc[Contact_to_HNF4a.cell_type == 'CD45$^+$Kit$^-$'],\n",
    "                 order = order,\n",
    "                 palette = ['red', 'lightgray'],\n",
    "                 errorbar='sd',\n",
    "                 errcolor='black',\n",
    "                 capsize=0.2,\n",
    "                 errwidth=1,\n",
    "                 color = 'r',\n",
    "                 lw = 1, \n",
    "                 edgecolor=\"0\")\n",
    "\n",
    "add_stat_annotation(x=\"type\",\n",
    "                    y=\"contact\",\n",
    "                    data=contact_prog_HNF4a_single_cell.loc[contact_prog_HNF4a_single_cell.cell_type == 'CD45$^+$Kit$^-$'],\n",
    "                    ax=ax[2],\n",
    "                    box_pairs=[('observed', 'random'),],\n",
    "                    test='t-test_welch',\n",
    "                    comparisons_correction=None, \n",
    "                    fontsize = 16,\n",
    "                    text_format='star',\n",
    "                    loc='outside',\n",
    "                    verbose=0)\n",
    "\n",
    "ax[0].set_ylabel('% cells in contact \\n to HNF4a$^+$cells', fontsize = 14)\n",
    "ax[1].set_ylabel(' ', fontsize = 12)\n",
    "ax[2].set_ylabel(' ', fontsize = 12)\n",
    "\n",
    "ax[0].set_xlabel(' ')\n",
    "ax[1].set_xlabel(' ')\n",
    "ax[2].set_xlabel(' ')\n",
    "\n",
    "ax[0].set_title('CD45$^-$Kit$^+$', fontsize = 14, pad = 30)\n",
    "ax[1].set_title('CD45$^+$Kit$^+$', fontsize = 14, pad = 30)\n",
    "ax[2].set_title('CD45$^+$Kit$^-$', fontsize = 14, pad = 30)\n",
    "\n",
    "ticklabels = ['observed', 'random']\n",
    "for i in range(3):\n",
    "    ax[i].set_xticklabels(ticklabels,\n",
    "                    rotation=50,\n",
    "                    horizontalalignment='right',\n",
    "                    verticalalignment = 'top')\n",
    "\n",
    "plt.tight_layout()\n",
    "plt.show()"
   ]
  },
  {
   "cell_type": "markdown",
   "id": "296ce843-7efb-49a7-9ee5-49b4e0799fe0",
   "metadata": {},
   "source": [
    "# Contact to LHX2$^+$cells"
   ]
  },
  {
   "cell_type": "code",
   "execution_count": 5,
   "id": "7d01f2b3-7bd5-480b-a344-dfbc1560a257",
   "metadata": {
    "tags": []
   },
   "outputs": [],
   "source": [
    "Contact_to_LHX2 = pandas.read_csv('Data_figures/Contact_prog_LHX2_E14.csv')\n",
    "contact_prog_LHX2_single_cell = pandas.read_csv('Data_figures/Contact_prog_LHX2_single_cell_E14.csv')"
   ]
  },
  {
   "cell_type": "markdown",
   "id": "6d82377f-a973-42f8-aa9e-bf59641d133a",
   "metadata": {
    "tags": []
   },
   "source": [
    "### Plot"
   ]
  },
  {
   "cell_type": "code",
   "execution_count": 6,
   "id": "c858dd34-f240-4f4e-8a05-3a4512368c52",
   "metadata": {
    "tags": []
   },
   "outputs": [
    {
     "data": {
      "image/png": "[encoded data removed]",
      "text/plain": [
       "<Figure size 400x320 with 3 Axes>"
      ]
     },
     "metadata": {},
     "output_type": "display_data"
    }
   ],
   "source": [
    "# Define font\n",
    "plt.rc('font',family='Arial')\n",
    "\n",
    "# Plot\n",
    "fig, ax = plt.subplots(1, 3, figsize = (4,3.2))\n",
    "\n",
    "plt.subplots_adjust(left=None, bottom=None, right=None, top=None, wspace=0.1, hspace=0.1)\n",
    "\n",
    "order = ['observed', 'random']\n",
    "\n",
    "for i in range(3):\n",
    "    ax[i].set_ylim(0,20)\n",
    "    ax[i].spines['top'].set_visible(False)\n",
    "    ax[i].spines['right'].set_visible(False)\n",
    "    ax[i].spines['bottom'].set_visible(True)\n",
    "    ax[i].spines['left'].set_visible(True)\n",
    "    ax[i].tick_params(axis='x', labelsize=14, rotation=45)\n",
    "    ax[i].tick_params(axis='y', labelsize=14)        \n",
    "    ax[i].tick_params(width=1, length=4)\n",
    "    for axis in ['bottom','left']:\n",
    "            ax[i].spines[axis].set_linewidth(1)\n",
    "            \n",
    "sns.barplot(ax=ax[0],\n",
    "                 x = 'type',\n",
    "                 y = 'fraction',\n",
    "                 data=Contact_to_LHX2.loc[Contact_to_LHX2.cell_type == 'CD45$^-$Kit$^+$'],\n",
    "                 order = order,\n",
    "                 palette = ['tab:blue', 'lightgray'],\n",
    "                 errorbar='sd',\n",
    "                 errcolor='black',\n",
    "                 capsize=0.2,\n",
    "                 errwidth=1,\n",
    "                 color = 'r',\n",
    "                 lw = 1, \n",
    "                 edgecolor=\"0\")\n",
    "\n",
    "add_stat_annotation(x=\"type\",\n",
    "                    y=\"contact\",\n",
    "                    data=contact_prog_LHX2_single_cell.loc[contact_prog_LHX2_single_cell.cell_type == 'CD45$^-$Kit$^+$'],\n",
    "                    ax=ax[0],\n",
    "                    box_pairs=[('observed', 'random'),],\n",
    "                    test='t-test_welch',\n",
    "                    comparisons_correction=None, \n",
    "                    fontsize = 16,\n",
    "                    text_format='star',\n",
    "                    loc='outside',\n",
    "                    verbose=0)\n",
    "\n",
    "sns.barplot(ax=ax[1],\n",
    "                 x = 'type',\n",
    "                 y = 'fraction',\n",
    "                 data=Contact_to_LHX2.loc[Contact_to_LHX2.cell_type == 'CD45$^+$Kit$^+$'],\n",
    "                 order = order,\n",
    "                 palette = ['purple', 'lightgray'],\n",
    "                 errorbar='sd',\n",
    "                 errcolor='black',\n",
    "                 capsize=0.2,\n",
    "                 errwidth=1,\n",
    "                 color = 'r',\n",
    "                 lw = 1, \n",
    "                 edgecolor=\"0\")\n",
    "\n",
    "add_stat_annotation(x=\"type\",\n",
    "                    y=\"contact\",\n",
    "                    data=contact_prog_LHX2_single_cell.loc[contact_prog_LHX2_single_cell.cell_type == 'CD45$^+$Kit$^+$'],\n",
    "                    ax=ax[1],\n",
    "                    box_pairs=[('observed', 'random'),],\n",
    "                    test='t-test_welch',\n",
    "                    comparisons_correction=None, \n",
    "                    fontsize = 16,\n",
    "                    text_format='star',\n",
    "                    loc='outside',\n",
    "                    verbose=0)\n",
    "\n",
    "sns.barplot(ax=ax[2],\n",
    "                 x = 'type',\n",
    "                 y = 'fraction',\n",
    "                 data=Contact_to_LHX2.loc[Contact_to_LHX2.cell_type == 'CD45$^+$Kit$^-$'],\n",
    "                 order = order,\n",
    "                 palette = ['red', 'lightgray'],\n",
    "                 errorbar='sd',\n",
    "                 errcolor='black',\n",
    "                 capsize=0.2,\n",
    "                 errwidth=1,\n",
    "                 color = 'r',\n",
    "                 lw = 1, \n",
    "                 edgecolor=\"0\")\n",
    "\n",
    "add_stat_annotation(x=\"type\",\n",
    "                    y=\"contact\",\n",
    "                    data=contact_prog_LHX2_single_cell.loc[contact_prog_LHX2_single_cell.cell_type == 'CD45$^+$Kit$^-$'],\n",
    "                    ax=ax[2],\n",
    "                    box_pairs=[('observed', 'random'),],\n",
    "                    test='t-test_welch',\n",
    "                    comparisons_correction=None, \n",
    "                    fontsize = 16,\n",
    "                    text_format='star',\n",
    "                    loc='outside',\n",
    "                    verbose=0)\n",
    "\n",
    "ax[0].set_ylabel('% cells in contact \\n to Lhx2$^+$cells', fontsize = 14)\n",
    "ax[1].set_ylabel(' ', fontsize = 12)\n",
    "ax[2].set_ylabel(' ', fontsize = 12)\n",
    "\n",
    "ax[0].set_xlabel(' ')\n",
    "ax[1].set_xlabel(' ')\n",
    "ax[2].set_xlabel(' ')\n",
    "\n",
    "ax[0].set_title('CD45$^-$Kit$^+$', fontsize = 14, pad = 30)\n",
    "ax[1].set_title('CD45$^+$Kit$^+$', fontsize = 14, pad = 30)\n",
    "ax[2].set_title('CD45$^+$Kit$^-$', fontsize = 14, pad = 30)\n",
    "\n",
    "ticklabels = ['observed', 'random']\n",
    "for i in range(3):\n",
    "    ax[i].set_xticklabels(ticklabels,\n",
    "                    rotation=50,\n",
    "                    horizontalalignment='right',\n",
    "                    verticalalignment = 'top')\n",
    "\n",
    "plt.tight_layout()\n",
    "plt.show()"
   ]
  },
  {
   "cell_type": "code",
   "execution_count": null,
   "id": "9ee4d433-ebe3-416f-8672-a307af931e64",
   "metadata": {},
   "outputs": [],
   "source": []
  }
 ],
 "metadata": {
  "kernelspec": {
   "display_name": "Python 3 (ipykernel)",
   "language": "python",
   "name": "python3"
  },
  "language_info": {
   "codemirror_mode": {
    "name": "ipython",
    "version": 3
   },
   "file_extension": ".py",
   "mimetype": "text/x-python",
   "name": "python",
   "nbconvert_exporter": "python",
   "pygments_lexer": "ipython3",
   "version": "3.10.9"
  }
 },
 "nbformat": 4,
 "nbformat_minor": 5
}
