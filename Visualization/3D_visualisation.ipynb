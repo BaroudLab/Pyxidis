{
 "cells": [
  {
   "cell_type": "markdown",
   "id": "a8ff807e-20b7-4787-81c0-3c397376d1ee",
   "metadata": {},
   "source": [
    "# Notebook to visualize classification and segmentation overlayed with original image in 3D"
   ]
  },
  {
   "cell_type": "code",
   "execution_count": 1,
   "id": "3434a836-0e2b-4422-8a99-29402d3fc731",
   "metadata": {
    "tags": []
   },
   "outputs": [],
   "source": [
    "import napari\n",
    "import pandas\n",
    "import numpy as np"
   ]
  },
  {
   "cell_type": "code",
   "execution_count": 2,
   "id": "7e471816-da72-4ed8-a538-dde7dc5e49d4",
   "metadata": {
    "tags": []
   },
   "outputs": [],
   "source": [
    "# Open napari viewer\n",
    "v = napari.Viewer()"
   ]
  },
  {
   "cell_type": "code",
   "execution_count": 8,
   "id": "2aea6f5e-f5f1-46d7-9798-2d43767e0704",
   "metadata": {
    "tags": []
   },
   "outputs": [
    {
     "name": "stdout",
     "output_type": "stream",
     "text": [
      "0 ['Lhx2+, HnF4a-']\n",
      "1 ['Lhx2-, HnF4a+']\n",
      "2 ['Lhx2-, HnF4a-']\n"
     ]
    }
   ],
   "source": [
    "# Load data\n",
    "data = pandas.read_csv('data_example_stroma.csv', delimiter = ',')\n",
    "data = data.sort_values(by = 'cell_type')\n",
    "\n",
    "# Correspondance cell type number / cell phenotype\n",
    "print(0, data.loc[data.cell_type == 0, 'cell_properties'].unique())\n",
    "print(1, data.loc[data.cell_type == 1, 'cell_properties'].unique())\n",
    "print(2, data.loc[data.cell_type == 2, 'cell_properties'].unique())"
   ]
  },
  {
   "cell_type": "code",
   "execution_count": null,
   "id": "85b4452d-ad2a-4c4c-aca7-90950b3f98c2",
   "metadata": {
    "tags": []
   },
   "outputs": [],
   "source": [
    "# Add point layer on napari viewer\n",
    "points = np.array(data[['z', 'x', 'y']])\n",
    "point_properties = {'cell_type': np.array(data['cell_type'])}\n",
    "\n",
    "point_properties = {\n",
    "    'label': np.array(data['label']),\n",
    "    'cell_type': np.array(data['cell_type']),\n",
    "    'cell_properties': np.array(data['cell_properties']),\n",
    "}\n",
    "\n",
    "points_layer = v.add_points(\n",
    "    points,\n",
    "    ndim = 3,\n",
    "    size = 5,\n",
    "    edge_width=0,\n",
    "    properties=point_properties,\n",
    "    face_color='cell_type',\n",
    "    face_color_cycle = ['blue', 'red', 'white']\n",
    ")"
   ]
  },
  {
   "cell_type": "code",
   "execution_count": null,
   "id": "879eeb19-24fc-4f35-85f8-3365cdd32788",
   "metadata": {},
   "outputs": [],
   "source": []
  }
 ],
 "metadata": {
  "kernelspec": {
   "display_name": "Python 3 (ipykernel)",
   "language": "python",
   "name": "python3"
  },
  "language_info": {
   "codemirror_mode": {
    "name": "ipython",
    "version": 3
   },
   "file_extension": ".py",
   "mimetype": "text/x-python",
   "name": "python",
   "nbconvert_exporter": "python",
   "pygments_lexer": "ipython3",
   "version": "3.10.9"
  }
 },
 "nbformat": 4,
 "nbformat_minor": 5
}
