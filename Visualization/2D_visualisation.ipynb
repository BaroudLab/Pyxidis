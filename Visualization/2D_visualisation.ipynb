{
 "cells": [
  {
   "cell_type": "markdown",
   "id": "06576e29-1b22-42cd-b24d-aaa855a2792b",
   "metadata": {},
   "source": [
    "# Notebook to visualize classification and segmentation overlayed with original image in 2D"
   ]
  },
  {
   "cell_type": "code",
   "execution_count": 2,
   "id": "3434a836-0e2b-4422-8a99-29402d3fc731",
   "metadata": {
    "tags": []
   },
   "outputs": [],
   "source": [
    "import napari\n",
    "import pandas\n",
    "import numpy as np"
   ]
  },
  {
   "cell_type": "code",
   "execution_count": 12,
   "id": "7e471816-da72-4ed8-a538-dde7dc5e49d4",
   "metadata": {
    "tags": []
   },
   "outputs": [
    {
     "name": "stdout",
     "output_type": "stream",
     "text": [
      "Opening Z:\\Marcia_Valentin\\All\\Data_and_code_paper\\2D_visualization_progenitors\\img_napari.tif\n",
      "input shape: (14962, 13913, 5)\n",
      "transpose -> (5, 14962, 13913)\n"
     ]
    }
   ],
   "source": [
    "# Open napari viewer\n",
    "v = napari.Viewer()"
   ]
  },
  {
   "cell_type": "code",
   "execution_count": 22,
   "id": "2aea6f5e-f5f1-46d7-9798-2d43767e0704",
   "metadata": {
    "tags": []
   },
   "outputs": [
    {
     "name": "stdout",
     "output_type": "stream",
     "text": [
      "0 ['CD45+, Kit+, Lhx2-']\n",
      "1 ['CD45+, Kit-, Lhx2-']\n",
      "2 ['CD45-, Kit+, Lhx2-']\n",
      "3 ['CD45-, Kit-, Lhx2+']\n",
      "4 ['CD45-, Kit-, Lhx2-']\n"
     ]
    }
   ],
   "source": [
    "# Load data\n",
    "data = pandas.read_csv('data_example_2D.csv', delimiter = ',')\n",
    "data = data.sort_values(by = 'cell_type')\n",
    "\n",
    "# Correspondance cell type number / cell phenotype\n",
    "print(0, data.loc[data.cell_type == 0, 'cell_properties'].unique())\n",
    "print(1, data.loc[data.cell_type == 1, 'cell_properties'].unique())\n",
    "print(2, data.loc[data.cell_type == 2, 'cell_properties'].unique())\n",
    "print(3, data.loc[data.cell_type == 3, 'cell_properties'].unique())\n",
    "print(4, data.loc[data.cell_type == 4, 'cell_properties'].unique())"
   ]
  },
  {
   "cell_type": "code",
   "execution_count": 26,
   "id": "85b4452d-ad2a-4c4c-aca7-90950b3f98c2",
   "metadata": {
    "tags": []
   },
   "outputs": [
    {
     "name": "stdout",
     "output_type": "stream",
     "text": [
      "Opening Z:\\Marcia_Valentin\\All\\Data_and_code_paper\\2D_visualization_progenitors\\example_image_2D_mask.tif\n",
      "input shape: (14962, 13913)\n"
     ]
    }
   ],
   "source": [
    "# Add point layer on napari viewer\n",
    "points = np.array(data[['y', 'x']])\n",
    "point_properties = {'cell_type': np.array(data['cell_type'])}\n",
    "\n",
    "point_properties = {\n",
    "    'label': np.array(data['label']),\n",
    "    'cell_type': np.array(data['cell_type']),\n",
    "    'cell_properties': np.array(data['cell_properties']),\n",
    "}\n",
    "\n",
    "points_layer = v.add_points(\n",
    "    points,\n",
    "    ndim = 2,\n",
    "    size = 10,\n",
    "    edge_width=0,\n",
    "    properties=point_properties,\n",
    "    face_color='cell_type',\n",
    "    face_color_cycle = ['purple', 'red', 'blue', 'green', 'white']\n",
    ")"
   ]
  },
  {
   "cell_type": "code",
   "execution_count": null,
   "id": "e6e34497-b3b4-4962-976e-85ffd0c1422a",
   "metadata": {},
   "outputs": [],
   "source": []
  },
  {
   "cell_type": "code",
   "execution_count": null,
   "id": "5c55b175-a84d-4628-8fdd-2568906b4905",
   "metadata": {},
   "outputs": [],
   "source": []
  }
 ],
 "metadata": {
  "kernelspec": {
   "display_name": "Python 3 (ipykernel)",
   "language": "python",
   "name": "python3"
  },
  "language_info": {
   "codemirror_mode": {
    "name": "ipython",
    "version": 3
   },
   "file_extension": ".py",
   "mimetype": "text/x-python",
   "name": "python",
   "nbconvert_exporter": "python",
   "pygments_lexer": "ipython3",
   "version": "3.10.9"
  }
 },
 "nbformat": 4,
 "nbformat_minor": 5
}
