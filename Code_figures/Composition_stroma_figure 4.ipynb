{
 "cells": [
  {
   "cell_type": "markdown",
   "id": "009be95e-8fc3-49cf-837b-6408ce5fd69a",
   "metadata": {},
   "source": [
    "# Notebook to plot cytokine producer composition (related to figure 4)"
   ]
  },
  {
   "cell_type": "code",
   "execution_count": 1,
   "id": "6cb56902-a8c3-4d7f-a4e0-d38baa791b67",
   "metadata": {
    "tags": []
   },
   "outputs": [],
   "source": [
    "import numpy as np\n",
    "import pandas\n",
    "import networkx as nx\n",
    "import matplotlib.pyplot as plt\n",
    "import os\n",
    "import seaborn as sns\n",
    "from statannot import add_stat_annotation\n",
    "import glob\n",
    "from tqdm.notebook import tqdm\n",
    "from copy import copy\n",
    "import matplotlib.gridspec as gridspec"
   ]
  },
  {
   "cell_type": "markdown",
   "id": "f49824d1-9406-4dbb-9a03-68f2ca85155f",
   "metadata": {
    "tags": []
   },
   "source": [
    "# Load data"
   ]
  },
  {
   "cell_type": "code",
   "execution_count": 2,
   "id": "f588b74e-841c-4213-aaba-e2f1b7ada32d",
   "metadata": {
    "tags": []
   },
   "outputs": [],
   "source": [
    "Composition_cytokine_prod = pandas.read_csv('Data/Cytokine_producing_cells_composition.csv')"
   ]
  },
  {
   "cell_type": "markdown",
   "id": "38d32914-ed9d-47b0-bc5a-fe5fd34fb62d",
   "metadata": {
    "tags": []
   },
   "source": [
    "### CXCL12 expression of Lhx2+ cells"
   ]
  },
  {
   "cell_type": "code",
   "execution_count": 3,
   "id": "a5b24aa8-590e-486f-8a6a-c615016644e8",
   "metadata": {
    "tags": []
   },
   "outputs": [
    {
     "name": "stderr",
     "output_type": "stream",
     "text": [
      "C:\\Users\\vabonnet\\AppData\\Local\\Temp\\ipykernel_21256\\3786933901.py:1: FutureWarning: The default value of numeric_only in DataFrameGroupBy.sum is deprecated. In a future version, numeric_only will default to False. Either specify numeric_only or select only columns which should be valid for the function.\n",
      "  total_lhx2 = Composition_cytokine_prod.loc[Composition_cytokine_prod.short_name.isin(['Lhx2+', 'Lhx2+, CXCL12-bright+', 'Lhx2+, CXCL12-dim+'])].groupby(['date']).sum().reset_index()\n"
     ]
    }
   ],
   "source": [
    "total_lhx2 = Composition_cytokine_prod.loc[Composition_cytokine_prod.short_name.isin(['Lhx2+', 'Lhx2+, CXCL12-bright+', 'Lhx2+, CXCL12-dim+'])].groupby(['date']).sum().reset_index()\n",
    "Compo_lhx2 = copy(Composition_cytokine_prod.loc[Composition_cytokine_prod.short_name.isin(['Lhx2+', 'Lhx2+, CXCL12-bright+', 'Lhx2+, CXCL12-dim+'])])\n",
    "for date in Compo_lhx2.date.unique():\n",
    "    Compo_lhx2.loc[Compo_lhx2.date == date, 'total_lhx2'] = total_lhx2.loc[total_lhx2.date == date, 'composition'].item()\n",
    "Compo_lhx2['relative_lhx2'] = 100* Compo_lhx2['composition'] / Compo_lhx2['total_lhx2']\n",
    "Compo_lhx2.loc[Compo_lhx2.short_name == 'Lhx2+, CXCL12-bright+', 'lhx2_types'] = 'CXCL12-bright+'\n",
    "Compo_lhx2.loc[Compo_lhx2.short_name == 'Lhx2+, CXCL12-dim+', 'lhx2_types'] = 'CXCL12-dim+'\n",
    "Compo_lhx2.loc[Compo_lhx2.short_name == 'Lhx2+', 'lhx2_types'] = 'Lhx2+'"
   ]
  },
  {
   "cell_type": "markdown",
   "id": "5a830548-f0e1-4319-ac3d-8b7d89c7c4ab",
   "metadata": {},
   "source": [
    "### CXCL12 expression of HNF4a+ cells"
   ]
  },
  {
   "cell_type": "code",
   "execution_count": 4,
   "id": "b44fbe1f-14a6-47c6-995d-1f9b51ff6caf",
   "metadata": {
    "tags": []
   },
   "outputs": [
    {
     "name": "stderr",
     "output_type": "stream",
     "text": [
      "C:\\Users\\vabonnet\\AppData\\Local\\Temp\\ipykernel_21256\\3639684168.py:1: FutureWarning: The default value of numeric_only in DataFrameGroupBy.sum is deprecated. In a future version, numeric_only will default to False. Either specify numeric_only or select only columns which should be valid for the function.\n",
      "  total_hnf4a = Composition_cytokine_prod.loc[Composition_cytokine_prod.short_name.isin(['HNF4a+', 'HNF4a+, CXCL12-bright+', 'HNF4a+, CXCL12-dim+'])].groupby(['date']).sum().reset_index()\n"
     ]
    }
   ],
   "source": [
    "total_hnf4a = Composition_cytokine_prod.loc[Composition_cytokine_prod.short_name.isin(['HNF4a+', 'HNF4a+, CXCL12-bright+', 'HNF4a+, CXCL12-dim+'])].groupby(['date']).sum().reset_index()\n",
    "Compo_hnf4a = copy(Composition_cytokine_prod.loc[Composition_cytokine_prod.short_name.isin(['HNF4a+', 'HNF4a+, CXCL12-bright+', 'HNF4a+, CXCL12-dim+'])])\n",
    "for date in Compo_hnf4a.date.unique():\n",
    "    Compo_hnf4a.loc[Compo_hnf4a.date == date, 'total_hnf4a'] = total_hnf4a.loc[total_hnf4a.date == date, 'composition'].item()\n",
    "Compo_hnf4a['relative_hnf4a'] = 100* Compo_hnf4a['composition'] / Compo_hnf4a['total_hnf4a']\n",
    "Compo_hnf4a.loc[Compo_hnf4a.short_name == 'HNF4a+, CXCL12-bright+', 'hnf4a_types'] = 'CXCL12-bright+'\n",
    "Compo_hnf4a.loc[Compo_hnf4a.short_name == 'HNF4a+, CXCL12-dim+', 'hnf4a_types'] = 'CXCL12-dim+'\n",
    "Compo_hnf4a.loc[Compo_hnf4a.short_name == 'HNF4a+', 'hnf4a_types'] = 'HNF4a+'"
   ]
  },
  {
   "cell_type": "markdown",
   "id": "8ab216cd-b2dd-4588-b8ce-11319906ccc6",
   "metadata": {},
   "source": [
    "### CXCL12-bright+ cells"
   ]
  },
  {
   "cell_type": "code",
   "execution_count": 5,
   "id": "2b1d96c8-6b6b-42ac-98aa-45be35188f1d",
   "metadata": {
    "tags": []
   },
   "outputs": [
    {
     "name": "stderr",
     "output_type": "stream",
     "text": [
      "C:\\Users\\vabonnet\\AppData\\Local\\Temp\\ipykernel_21256\\3988348615.py:2: FutureWarning: The default value of numeric_only in DataFrameGroupBy.sum is deprecated. In a future version, numeric_only will default to False. Either specify numeric_only or select only columns which should be valid for the function.\n",
      "  total_cxcl12bright = Composition_lhx2_total.loc[Composition_lhx2_total.short_name.isin(['Lhx2+, CXCL12-bright+', 'CXCL12-bright+'])].groupby(['date']).sum().reset_index()\n"
     ]
    }
   ],
   "source": [
    "Composition_lhx2_total = Composition_cytokine_prod.loc[Composition_cytokine_prod.Lhx2 == 1]\n",
    "total_cxcl12bright = Composition_lhx2_total.loc[Composition_lhx2_total.short_name.isin(['Lhx2+, CXCL12-bright+', 'CXCL12-bright+'])].groupby(['date']).sum().reset_index()\n",
    "Compo_bright = copy(Composition_lhx2_total.loc[Composition_lhx2_total.short_name.isin(['Lhx2+, CXCL12-bright+', 'CXCL12-bright+'])])\n",
    "for date in Compo_bright.date.unique():\n",
    "    Compo_bright.loc[Compo_bright.date == date, 'total_cxcl12bright'] = total_cxcl12bright.loc[total_cxcl12bright.date == date, 'composition'].item()\n",
    "Compo_bright['relative_cxcl12bright'] = 100* Compo_bright['composition'] / Compo_bright['total_cxcl12bright']\n",
    "Compo_bright.loc[Compo_bright.short_name == 'Lhx2+, CXCL12-bright+', 'cxcl12bright_types'] = 'Lhx2+'\n",
    "Compo_bright.loc[Compo_bright.short_name == 'CXCL12-bright+', 'cxcl12bright_types'] = 'CXCL12-bright+'"
   ]
  },
  {
   "cell_type": "markdown",
   "id": "32722b7b-9901-4061-9ef3-15860610b536",
   "metadata": {
    "tags": []
   },
   "source": [
    "### CXCL12-dim+ cells"
   ]
  },
  {
   "cell_type": "code",
   "execution_count": 6,
   "id": "e3db83e0-9cdf-45e1-a57e-5e7fee7c25d1",
   "metadata": {
    "tags": []
   },
   "outputs": [
    {
     "name": "stderr",
     "output_type": "stream",
     "text": [
      "C:\\Users\\vabonnet\\AppData\\Local\\Temp\\ipykernel_21256\\1622101901.py:1: FutureWarning: The default value of numeric_only in DataFrameGroupBy.sum is deprecated. In a future version, numeric_only will default to False. Either specify numeric_only or select only columns which should be valid for the function.\n",
      "  total_cxcl12dim = Composition_cytokine_prod.loc[Composition_cytokine_prod.short_name.isin(['Lhx2+, CXCL12-dim+', 'HNF4a+, CXCL12-dim+', 'CXCL12-dim+'])].groupby(['date']).sum().reset_index()\n"
     ]
    }
   ],
   "source": [
    "total_cxcl12dim = Composition_cytokine_prod.loc[Composition_cytokine_prod.short_name.isin(['Lhx2+, CXCL12-dim+', 'HNF4a+, CXCL12-dim+', 'CXCL12-dim+'])].groupby(['date']).sum().reset_index()\n",
    "Compo_dim = copy(Composition_cytokine_prod.loc[Composition_cytokine_prod.short_name.isin(['Lhx2+, CXCL12-dim+', 'HNF4a+, CXCL12-dim+', 'CXCL12-dim+'])])\n",
    "for date in Compo_dim.date.unique():\n",
    "    Compo_dim.loc[Compo_dim.date == date, 'total_cxcl12dim'] = total_cxcl12dim.loc[total_cxcl12dim.date == date, 'composition'].item()\n",
    "Compo_dim['relative_cxcl12dim'] = 100* Compo_dim['composition'] / Compo_dim['total_cxcl12dim']\n",
    "Compo_dim.loc[Compo_dim.short_name == 'Lhx2+, CXCL12-dim+', 'cxcl12dim_types'] = 'Lhx2+'\n",
    "Compo_dim.loc[Compo_dim.short_name == 'HNF4a+, CXCL12-dim+', 'cxcl12dim_types'] = 'HNF4a+'\n",
    "Compo_dim.loc[Compo_dim.short_name == 'CXCL12-dim+', 'cxcl12dim_types'] = 'CXCL12-dim+'"
   ]
  },
  {
   "cell_type": "markdown",
   "id": "17545541-ac71-4286-9371-7bea8c615c8c",
   "metadata": {},
   "source": [
    "# Plot"
   ]
  },
  {
   "cell_type": "code",
   "execution_count": 9,
   "id": "885cedd9-232c-4505-9101-1ea3b0dbc325",
   "metadata": {
    "tags": []
   },
   "outputs": [
    {
     "data": {
      "image/png": "[encoded data removed]",
      "text/plain": [
       "<Figure size 1000x310 with 6 Axes>"
      ]
     },
     "metadata": {},
     "output_type": "display_data"
    }
   ],
   "source": [
    "# Define font\n",
    "plt.rc('font',family='Arial')\n",
    "\n",
    "# Plot\n",
    "fig = plt.figure(figsize=(10, 3.1))\n",
    "gs = fig.add_gridspec(nrows=1, ncols=6, width_ratios=[5, 3, 2, 2, 2, 2], wspace=1.2)\n",
    "\n",
    "ax1 = fig.add_subplot(gs[0, 0])\n",
    "order_ax1 = ['Lhx2+', \n",
    "         'Lhx2+, CXCL12-bright+',\n",
    "         'Lhx2+, CXCL12-dim+',\n",
    "         'HNF4a+',\n",
    "         'HNF4a+, CXCL12-dim+',]\n",
    "\n",
    "ax1 = sns.barplot(x=\"short_name\", \n",
    "                 y=\"composition\",\n",
    "                 data=Composition_cytokine_prod,\n",
    "                 order = order_ax1,\n",
    "                 errorbar='sd',\n",
    "                 errcolor='black',\n",
    "                 capsize=0.2,\n",
    "                 errwidth=1,\n",
    "                 color = 'gainsboro',\n",
    "                 lw = 1, \n",
    "                 edgecolor=\"0\")\n",
    "\n",
    "ax2 = fig.add_subplot(gs[0, 1])\n",
    "order_ax2 = ['CXCL12-bright+', 'CXCL12-dim+', 'Lhx2+']\n",
    "ax2 = sns.barplot(x=\"lhx2_types\", \n",
    "                 y=\"relative_lhx2\",\n",
    "                 data=Compo_lhx2,\n",
    "                 order = order_ax2,\n",
    "                 errorbar='sd',\n",
    "                 errcolor='black',\n",
    "                 capsize=0.2,\n",
    "                 errwidth=1,\n",
    "                 color = 'mediumaquamarine',\n",
    "                 lw = 1, \n",
    "                 edgecolor=\"0\")\n",
    "\n",
    "ax3 = fig.add_subplot(gs[0, 2])\n",
    "order_ax3 = ['CXCL12-dim+', 'HNF4a+']\n",
    "ax3 = sns.barplot(x=\"hnf4a_types\", \n",
    "                 y=\"relative_hnf4a\",\n",
    "                 data=Compo_hnf4a,\n",
    "                 order = order_ax3,\n",
    "                 errorbar='sd',\n",
    "                 errcolor='black',\n",
    "                 capsize=0.2,\n",
    "                 errwidth=1,\n",
    "                 color = 'paleturquoise',\n",
    "                 lw = 1, \n",
    "                 edgecolor=\"0\")\n",
    "\n",
    "ax4 = fig.add_subplot(gs[0, 3])\n",
    "order_ax4 = ['Lhx2+', 'CXCL12-bright+']\n",
    "ax4 = sns.barplot(x=\"cxcl12bright_types\", \n",
    "                 y=\"relative_cxcl12bright\",\n",
    "                 data=Compo_bright,\n",
    "                 order = order_ax4,\n",
    "                 errorbar='sd',\n",
    "                 errcolor='black',\n",
    "                 capsize=0.2,\n",
    "                 errwidth=1,\n",
    "                 color = 'lightcoral',\n",
    "                 lw = 1, \n",
    "                 edgecolor=\"0\")\n",
    "\n",
    "ax5 = fig.add_subplot(gs[0, 4])\n",
    "order_ax5 = ['Lhx2+', 'HNF4a+']\n",
    "ax5 = sns.barplot(x=\"cxcl12dim_types\", \n",
    "                 y=\"relative_cxcl12dim\",\n",
    "                 data=Compo_dim,\n",
    "                 order = order_ax5,\n",
    "                 errorbar='sd',\n",
    "                 errcolor='black',\n",
    "                 capsize=0.2,\n",
    "                 errwidth=1,\n",
    "                 color = 'mistyrose',\n",
    "                 lw = 1, \n",
    "                 edgecolor=\"0\")\n",
    "\n",
    "ax6 = fig.add_subplot(gs[0, 5])\n",
    "order_ax6 = ['KitL+', 'KitL-']\n",
    "ax6 = sns.barplot(x='short_name',\n",
    "                 y = 'composition',\n",
    "                 data = Composition_cytokine_prod,\n",
    "                 order = order_ax6,\n",
    "                 errcolor='black',\n",
    "                 capsize=0.1,\n",
    "                 errwidth=1,\n",
    "                 color = 'paleturquoise',\n",
    "                 lw = 1, \n",
    "                 edgecolor=\"0\")\n",
    "\n",
    "ax1.set_ylim(0,10)\n",
    "ax1.spines['top'].set_visible(False)\n",
    "ax1.spines['right'].set_visible(False)\n",
    "ax1.spines['bottom'].set_visible(True)\n",
    "ax1.spines['left'].set_visible(True)\n",
    "ax1.tick_params(axis='x', labelsize=10)\n",
    "ax1.tick_params(axis='y', labelsize=10)        \n",
    "ax1.tick_params(width=1, length=4)\n",
    "ax1.set_xlabel(' ', fontsize = 10)\n",
    "ax1.margins(0.04, 0)  \n",
    "\n",
    "ax2.set_ylim(0,100)\n",
    "ax2.spines['top'].set_visible(False)\n",
    "ax2.spines['right'].set_visible(False)\n",
    "ax2.spines['bottom'].set_visible(True)\n",
    "ax2.spines['left'].set_visible(True)\n",
    "ax2.tick_params(axis='x', labelsize=10)\n",
    "ax2.tick_params(axis='y', labelsize=10)        \n",
    "ax2.tick_params(width=1, length=4)\n",
    "ax2.set_xlabel(' ', fontsize = 10)\n",
    "ax2.margins(0.05, 0)  \n",
    "\n",
    "ax3.set_ylim(0,100)\n",
    "ax3.spines['top'].set_visible(False)\n",
    "ax3.spines['right'].set_visible(False)\n",
    "ax3.spines['bottom'].set_visible(True)\n",
    "ax3.spines['left'].set_visible(True)\n",
    "ax3.tick_params(axis='x', labelsize=10)\n",
    "ax3.tick_params(axis='y', labelsize=10)        \n",
    "ax3.tick_params(width=1, length=4)\n",
    "ax3.set_xlabel(' ', fontsize = 10)\n",
    "ax3.margins(0.1, 0)  \n",
    "\n",
    "ax4.set_ylim(0,100)\n",
    "ax4.spines['top'].set_visible(False)\n",
    "ax4.spines['right'].set_visible(False)\n",
    "ax4.spines['bottom'].set_visible(True)\n",
    "ax4.spines['left'].set_visible(True)\n",
    "ax4.tick_params(axis='x', labelsize=10)\n",
    "ax4.tick_params(axis='y', labelsize=10)        \n",
    "ax4.tick_params(width=1, length=4)\n",
    "ax4.set_xlabel(' ', fontsize = 10)\n",
    "ax4.margins(0.1, 0)  \n",
    "\n",
    "ax5.set_ylim(0,100)\n",
    "ax5.spines['top'].set_visible(False)\n",
    "ax5.spines['right'].set_visible(False)\n",
    "ax5.spines['bottom'].set_visible(True)\n",
    "ax5.spines['left'].set_visible(True)\n",
    "ax5.tick_params(axis='x', labelsize=10)\n",
    "ax5.tick_params(axis='y', labelsize=10)        \n",
    "ax5.tick_params(width=1, length=4)\n",
    "ax5.set_xlabel(' ', fontsize = 10)\n",
    "ax5.margins(0.08, 0)  \n",
    "\n",
    "ax6.set_ylim(0,100)\n",
    "ax6.spines['top'].set_visible(False)\n",
    "ax6.spines['right'].set_visible(False)\n",
    "ax6.spines['bottom'].set_visible(True)\n",
    "ax6.spines['left'].set_visible(True)\n",
    "ax6.tick_params(axis='x', labelsize=10)\n",
    "ax6.tick_params(axis='y', labelsize=10)        \n",
    "ax6.tick_params(width=1, length=4)\n",
    "ax6.set_xlabel(' ', fontsize = 10)\n",
    "ax6.margins(0.1, 0)  \n",
    "    \n",
    "for axis in ['bottom','left']:\n",
    "        ax1.spines[axis].set_linewidth(1)\n",
    "        ax2.spines[axis].set_linewidth(1)\n",
    "        ax3.spines[axis].set_linewidth(1)\n",
    "        ax4.spines[axis].set_linewidth(1)\n",
    "        ax5.spines[axis].set_linewidth(1)\n",
    "        ax6.spines[axis].set_linewidth(1)\n",
    "\n",
    "ax1.set_ylabel('% of total cells', fontsize = 12, labelpad = -2)\n",
    "ax2.set_ylabel('% of Lhx2$^+$ cells', fontsize = 12, labelpad = -2)\n",
    "ax3.set_ylabel('% of HNF4a$^+$ cells', fontsize = 12, labelpad = -2)\n",
    "ax4.set_ylabel('% of CXCL12-dsRed$^{bright+}$ cells', fontsize = 12, labelpad = -2)\n",
    "ax5.set_ylabel('% of CXCL12-dsRed$^{dim+}$ cells', fontsize = 12, labelpad = -2)\n",
    "ax6.set_ylabel('% of HNF4a$^+$ cells', fontsize = 12, labelpad = -2)\n",
    "\n",
    "# Add labels of x axis with subscripts\n",
    "ticklabels = ['Lhx2$^+$CXCL12$^-$', 'Lhx2$^+$CXCL12$^{bright+}$', 'Lhx2$^+$CXCL12$^{dim+}$', 'HNF4a$^+$', 'HNF4a$^+$CXCL12$^{dim+}$']\n",
    "ticklabels_bright = ['Lhx2$^+$', 'Lhx2$^-$']\n",
    "ticklabels_dim = ['Lhx2$^+$', 'HNF4a$^+$']\n",
    "ticklabels_HNF4a = ['CXCL12$^{dim+}$', 'CXCL12$^-$']\n",
    "ticklabels_Lhx2 = ['CXCL12$^{bright+}$', 'CXCL12$^{dim+}$', 'CXCL12$^-$']\n",
    "ticklabels_KITL = ['KITL$^+$', 'KITL$^-$']\n",
    "\n",
    "ax1.set_xticklabels(ticklabels,\n",
    "                    rotation=50,\n",
    "                    horizontalalignment='right',\n",
    "                    verticalalignment = 'top')\n",
    "\n",
    "ax2.set_xticklabels(ticklabels_Lhx2,\n",
    "                    rotation=50,\n",
    "                    horizontalalignment='right',\n",
    "                    verticalalignment = 'top')\n",
    "\n",
    "ax3.set_xticklabels(ticklabels_HNF4a,\n",
    "                    rotation=50,\n",
    "                    horizontalalignment='right',\n",
    "                    verticalalignment = 'top')\n",
    "\n",
    "ax4.set_xticklabels(ticklabels_bright,\n",
    "                    rotation=50,\n",
    "                    horizontalalignment='right',\n",
    "                    verticalalignment = 'top')\n",
    "\n",
    "ax5.set_xticklabels(ticklabels_dim,\n",
    "                    rotation=50,\n",
    "                    horizontalalignment='right',\n",
    "                    verticalalignment = 'top')\n",
    "\n",
    "ax6.set_xticklabels(ticklabels_KITL,\n",
    "                    rotation=50,\n",
    "                    horizontalalignment='right',\n",
    "                    verticalalignment = 'top')\n",
    "plt.show()"
   ]
  },
  {
   "cell_type": "code",
   "execution_count": null,
   "id": "43d45b80-d2c4-4c16-b43e-4d270e20dcbd",
   "metadata": {},
   "outputs": [],
   "source": []
  }
 ],
 "metadata": {
  "kernelspec": {
   "display_name": "Python 3 (ipykernel)",
   "language": "python",
   "name": "python3"
  },
  "language_info": {
   "codemirror_mode": {
    "name": "ipython",
    "version": 3
   },
   "file_extension": ".py",
   "mimetype": "text/x-python",
   "name": "python",
   "nbconvert_exporter": "python",
   "pygments_lexer": "ipython3",
   "version": "3.10.9"
  }
 },
 "nbformat": 4,
 "nbformat_minor": 5
}
